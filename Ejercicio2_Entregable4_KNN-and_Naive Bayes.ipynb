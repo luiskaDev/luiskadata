{
 "cells": [
  {
   "cell_type": "code",
   "execution_count": null,
   "id": "bd094864-14bc-4eca-a657-b64b4a965167",
   "metadata": {},
   "outputs": [],
   "source": [
    "Análisis de Datos - Luis Carlos Barraza Terraza - 19.768.492 Grupo 202016908_50 "
   ]
  },
  {
   "cell_type": "markdown",
   "id": "948fca59-d72e-41bd-bfde-572189aa7ce8",
   "metadata": {},
   "source": [
    "# Análisis con KNN (Vecinos más cercanos):"
   ]
  },
  {
   "cell_type": "code",
   "execution_count": 20,
   "id": "b93167ab-7d15-46da-baaf-c1272ac4be42",
   "metadata": {
    "tags": []
   },
   "outputs": [],
   "source": [
    "from sklearn.model_selection import train_test_split\n",
    "from sklearn.naive_bayes import MultinomialNB\n",
    "from sklearn import metrics\n",
    "from sklearn.preprocessing import LabelEncoder\n",
    "from sklearn.neighbors import KNeighborsClassifier\n",
    "from sklearn.metrics import accuracy_score"
   ]
  },
  {
   "cell_type": "code",
   "execution_count": 9,
   "id": "bc71b06c-e56d-4949-88e3-1a791278d3dd",
   "metadata": {
    "tags": []
   },
   "outputs": [
    {
     "data": {
      "text/html": [
       "<div>\n",
       "<style scoped>\n",
       "    .dataframe tbody tr th:only-of-type {\n",
       "        vertical-align: middle;\n",
       "    }\n",
       "\n",
       "    .dataframe tbody tr th {\n",
       "        vertical-align: top;\n",
       "    }\n",
       "\n",
       "    .dataframe thead th {\n",
       "        text-align: right;\n",
       "    }\n",
       "</style>\n",
       "<table border=\"1\" class=\"dataframe\">\n",
       "  <thead>\n",
       "    <tr style=\"text-align: right;\">\n",
       "      <th></th>\n",
       "      <th>Fever</th>\n",
       "      <th>Tiredness</th>\n",
       "      <th>Dry-Cough</th>\n",
       "      <th>Difficulty-in-Breathing</th>\n",
       "      <th>Sore-Throat</th>\n",
       "      <th>None_Sympton</th>\n",
       "      <th>Pains</th>\n",
       "      <th>Nasal-Congestion</th>\n",
       "      <th>Runny-Nose</th>\n",
       "      <th>Diarrhea</th>\n",
       "      <th>...</th>\n",
       "      <th>Gender_Male</th>\n",
       "      <th>Gender_Transgender</th>\n",
       "      <th>Severity_Mild</th>\n",
       "      <th>Severity_Moderate</th>\n",
       "      <th>Severity_None</th>\n",
       "      <th>Severity_Severe</th>\n",
       "      <th>Contact_Dont-Know</th>\n",
       "      <th>Contact_No</th>\n",
       "      <th>Contact_Yes</th>\n",
       "      <th>Country</th>\n",
       "    </tr>\n",
       "  </thead>\n",
       "  <tbody>\n",
       "    <tr>\n",
       "      <th>0</th>\n",
       "      <td>1</td>\n",
       "      <td>1</td>\n",
       "      <td>1</td>\n",
       "      <td>1</td>\n",
       "      <td>1</td>\n",
       "      <td>0</td>\n",
       "      <td>1</td>\n",
       "      <td>1</td>\n",
       "      <td>1</td>\n",
       "      <td>1</td>\n",
       "      <td>...</td>\n",
       "      <td>1</td>\n",
       "      <td>0</td>\n",
       "      <td>1</td>\n",
       "      <td>0</td>\n",
       "      <td>0</td>\n",
       "      <td>0</td>\n",
       "      <td>0</td>\n",
       "      <td>0</td>\n",
       "      <td>1</td>\n",
       "      <td>China</td>\n",
       "    </tr>\n",
       "    <tr>\n",
       "      <th>1</th>\n",
       "      <td>1</td>\n",
       "      <td>1</td>\n",
       "      <td>1</td>\n",
       "      <td>1</td>\n",
       "      <td>1</td>\n",
       "      <td>0</td>\n",
       "      <td>1</td>\n",
       "      <td>1</td>\n",
       "      <td>1</td>\n",
       "      <td>1</td>\n",
       "      <td>...</td>\n",
       "      <td>1</td>\n",
       "      <td>0</td>\n",
       "      <td>1</td>\n",
       "      <td>0</td>\n",
       "      <td>0</td>\n",
       "      <td>0</td>\n",
       "      <td>0</td>\n",
       "      <td>1</td>\n",
       "      <td>0</td>\n",
       "      <td>China</td>\n",
       "    </tr>\n",
       "    <tr>\n",
       "      <th>2</th>\n",
       "      <td>1</td>\n",
       "      <td>1</td>\n",
       "      <td>1</td>\n",
       "      <td>1</td>\n",
       "      <td>1</td>\n",
       "      <td>0</td>\n",
       "      <td>1</td>\n",
       "      <td>1</td>\n",
       "      <td>1</td>\n",
       "      <td>1</td>\n",
       "      <td>...</td>\n",
       "      <td>1</td>\n",
       "      <td>0</td>\n",
       "      <td>1</td>\n",
       "      <td>0</td>\n",
       "      <td>0</td>\n",
       "      <td>0</td>\n",
       "      <td>1</td>\n",
       "      <td>0</td>\n",
       "      <td>0</td>\n",
       "      <td>China</td>\n",
       "    </tr>\n",
       "    <tr>\n",
       "      <th>3</th>\n",
       "      <td>1</td>\n",
       "      <td>1</td>\n",
       "      <td>1</td>\n",
       "      <td>1</td>\n",
       "      <td>1</td>\n",
       "      <td>0</td>\n",
       "      <td>1</td>\n",
       "      <td>1</td>\n",
       "      <td>1</td>\n",
       "      <td>1</td>\n",
       "      <td>...</td>\n",
       "      <td>1</td>\n",
       "      <td>0</td>\n",
       "      <td>0</td>\n",
       "      <td>1</td>\n",
       "      <td>0</td>\n",
       "      <td>0</td>\n",
       "      <td>0</td>\n",
       "      <td>0</td>\n",
       "      <td>1</td>\n",
       "      <td>China</td>\n",
       "    </tr>\n",
       "    <tr>\n",
       "      <th>4</th>\n",
       "      <td>1</td>\n",
       "      <td>1</td>\n",
       "      <td>1</td>\n",
       "      <td>1</td>\n",
       "      <td>1</td>\n",
       "      <td>0</td>\n",
       "      <td>1</td>\n",
       "      <td>1</td>\n",
       "      <td>1</td>\n",
       "      <td>1</td>\n",
       "      <td>...</td>\n",
       "      <td>1</td>\n",
       "      <td>0</td>\n",
       "      <td>0</td>\n",
       "      <td>1</td>\n",
       "      <td>0</td>\n",
       "      <td>0</td>\n",
       "      <td>0</td>\n",
       "      <td>1</td>\n",
       "      <td>0</td>\n",
       "      <td>China</td>\n",
       "    </tr>\n",
       "    <tr>\n",
       "      <th>...</th>\n",
       "      <td>...</td>\n",
       "      <td>...</td>\n",
       "      <td>...</td>\n",
       "      <td>...</td>\n",
       "      <td>...</td>\n",
       "      <td>...</td>\n",
       "      <td>...</td>\n",
       "      <td>...</td>\n",
       "      <td>...</td>\n",
       "      <td>...</td>\n",
       "      <td>...</td>\n",
       "      <td>...</td>\n",
       "      <td>...</td>\n",
       "      <td>...</td>\n",
       "      <td>...</td>\n",
       "      <td>...</td>\n",
       "      <td>...</td>\n",
       "      <td>...</td>\n",
       "      <td>...</td>\n",
       "      <td>...</td>\n",
       "      <td>...</td>\n",
       "    </tr>\n",
       "    <tr>\n",
       "      <th>316795</th>\n",
       "      <td>0</td>\n",
       "      <td>0</td>\n",
       "      <td>0</td>\n",
       "      <td>0</td>\n",
       "      <td>0</td>\n",
       "      <td>1</td>\n",
       "      <td>0</td>\n",
       "      <td>0</td>\n",
       "      <td>0</td>\n",
       "      <td>0</td>\n",
       "      <td>...</td>\n",
       "      <td>0</td>\n",
       "      <td>1</td>\n",
       "      <td>0</td>\n",
       "      <td>0</td>\n",
       "      <td>0</td>\n",
       "      <td>1</td>\n",
       "      <td>0</td>\n",
       "      <td>1</td>\n",
       "      <td>0</td>\n",
       "      <td>Other</td>\n",
       "    </tr>\n",
       "    <tr>\n",
       "      <th>316796</th>\n",
       "      <td>0</td>\n",
       "      <td>0</td>\n",
       "      <td>0</td>\n",
       "      <td>0</td>\n",
       "      <td>0</td>\n",
       "      <td>1</td>\n",
       "      <td>0</td>\n",
       "      <td>0</td>\n",
       "      <td>0</td>\n",
       "      <td>0</td>\n",
       "      <td>...</td>\n",
       "      <td>0</td>\n",
       "      <td>1</td>\n",
       "      <td>0</td>\n",
       "      <td>0</td>\n",
       "      <td>0</td>\n",
       "      <td>1</td>\n",
       "      <td>1</td>\n",
       "      <td>0</td>\n",
       "      <td>0</td>\n",
       "      <td>Other</td>\n",
       "    </tr>\n",
       "    <tr>\n",
       "      <th>316797</th>\n",
       "      <td>0</td>\n",
       "      <td>0</td>\n",
       "      <td>0</td>\n",
       "      <td>0</td>\n",
       "      <td>0</td>\n",
       "      <td>1</td>\n",
       "      <td>0</td>\n",
       "      <td>0</td>\n",
       "      <td>0</td>\n",
       "      <td>0</td>\n",
       "      <td>...</td>\n",
       "      <td>0</td>\n",
       "      <td>1</td>\n",
       "      <td>0</td>\n",
       "      <td>0</td>\n",
       "      <td>1</td>\n",
       "      <td>0</td>\n",
       "      <td>0</td>\n",
       "      <td>0</td>\n",
       "      <td>1</td>\n",
       "      <td>Other</td>\n",
       "    </tr>\n",
       "    <tr>\n",
       "      <th>316798</th>\n",
       "      <td>0</td>\n",
       "      <td>0</td>\n",
       "      <td>0</td>\n",
       "      <td>0</td>\n",
       "      <td>0</td>\n",
       "      <td>1</td>\n",
       "      <td>0</td>\n",
       "      <td>0</td>\n",
       "      <td>0</td>\n",
       "      <td>0</td>\n",
       "      <td>...</td>\n",
       "      <td>0</td>\n",
       "      <td>1</td>\n",
       "      <td>0</td>\n",
       "      <td>0</td>\n",
       "      <td>1</td>\n",
       "      <td>0</td>\n",
       "      <td>0</td>\n",
       "      <td>1</td>\n",
       "      <td>0</td>\n",
       "      <td>Other</td>\n",
       "    </tr>\n",
       "    <tr>\n",
       "      <th>316799</th>\n",
       "      <td>0</td>\n",
       "      <td>0</td>\n",
       "      <td>0</td>\n",
       "      <td>0</td>\n",
       "      <td>0</td>\n",
       "      <td>1</td>\n",
       "      <td>0</td>\n",
       "      <td>0</td>\n",
       "      <td>0</td>\n",
       "      <td>0</td>\n",
       "      <td>...</td>\n",
       "      <td>0</td>\n",
       "      <td>1</td>\n",
       "      <td>0</td>\n",
       "      <td>0</td>\n",
       "      <td>1</td>\n",
       "      <td>0</td>\n",
       "      <td>1</td>\n",
       "      <td>0</td>\n",
       "      <td>0</td>\n",
       "      <td>Other</td>\n",
       "    </tr>\n",
       "  </tbody>\n",
       "</table>\n",
       "<p>316800 rows × 27 columns</p>\n",
       "</div>"
      ],
      "text/plain": [
       "        Fever  Tiredness  Dry-Cough  Difficulty-in-Breathing  Sore-Throat  \\\n",
       "0           1          1          1                        1            1   \n",
       "1           1          1          1                        1            1   \n",
       "2           1          1          1                        1            1   \n",
       "3           1          1          1                        1            1   \n",
       "4           1          1          1                        1            1   \n",
       "...       ...        ...        ...                      ...          ...   \n",
       "316795      0          0          0                        0            0   \n",
       "316796      0          0          0                        0            0   \n",
       "316797      0          0          0                        0            0   \n",
       "316798      0          0          0                        0            0   \n",
       "316799      0          0          0                        0            0   \n",
       "\n",
       "        None_Sympton  Pains  Nasal-Congestion  Runny-Nose  Diarrhea  ...  \\\n",
       "0                  0      1                 1           1         1  ...   \n",
       "1                  0      1                 1           1         1  ...   \n",
       "2                  0      1                 1           1         1  ...   \n",
       "3                  0      1                 1           1         1  ...   \n",
       "4                  0      1                 1           1         1  ...   \n",
       "...              ...    ...               ...         ...       ...  ...   \n",
       "316795             1      0                 0           0         0  ...   \n",
       "316796             1      0                 0           0         0  ...   \n",
       "316797             1      0                 0           0         0  ...   \n",
       "316798             1      0                 0           0         0  ...   \n",
       "316799             1      0                 0           0         0  ...   \n",
       "\n",
       "        Gender_Male  Gender_Transgender  Severity_Mild  Severity_Moderate  \\\n",
       "0                 1                   0              1                  0   \n",
       "1                 1                   0              1                  0   \n",
       "2                 1                   0              1                  0   \n",
       "3                 1                   0              0                  1   \n",
       "4                 1                   0              0                  1   \n",
       "...             ...                 ...            ...                ...   \n",
       "316795            0                   1              0                  0   \n",
       "316796            0                   1              0                  0   \n",
       "316797            0                   1              0                  0   \n",
       "316798            0                   1              0                  0   \n",
       "316799            0                   1              0                  0   \n",
       "\n",
       "        Severity_None  Severity_Severe  Contact_Dont-Know  Contact_No  \\\n",
       "0                   0                0                  0           0   \n",
       "1                   0                0                  0           1   \n",
       "2                   0                0                  1           0   \n",
       "3                   0                0                  0           0   \n",
       "4                   0                0                  0           1   \n",
       "...               ...              ...                ...         ...   \n",
       "316795              0                1                  0           1   \n",
       "316796              0                1                  1           0   \n",
       "316797              1                0                  0           0   \n",
       "316798              1                0                  0           1   \n",
       "316799              1                0                  1           0   \n",
       "\n",
       "        Contact_Yes  Country  \n",
       "0                 1    China  \n",
       "1                 0    China  \n",
       "2                 0    China  \n",
       "3                 1    China  \n",
       "4                 0    China  \n",
       "...             ...      ...  \n",
       "316795            0    Other  \n",
       "316796            0    Other  \n",
       "316797            1    Other  \n",
       "316798            0    Other  \n",
       "316799            0    Other  \n",
       "\n",
       "[316800 rows x 27 columns]"
      ]
     },
     "execution_count": 9,
     "metadata": {},
     "output_type": "execute_result"
    }
   ],
   "source": [
    "df = pd.read_csv(\"/Users/luisk/Desktop/Ej2-Cleaned-Data.csv\")\n",
    "data = df\n",
    "data"
   ]
  },
  {
   "cell_type": "markdown",
   "id": "3f826ea5-99fa-49b5-8f3c-c91ac3077bbf",
   "metadata": {},
   "source": [
    "# Eliminamos la columna 'Country' ya que no la necesitas para el modelo"
   ]
  },
  {
   "cell_type": "code",
   "execution_count": 10,
   "id": "593e4de4-d66b-4d0a-b46f-47d780e193a2",
   "metadata": {
    "tags": []
   },
   "outputs": [],
   "source": [
    "data = data.drop(['Country'], axis=1)"
   ]
  },
  {
   "cell_type": "markdown",
   "id": "75f26053-a759-462d-ace1-62af3c959569",
   "metadata": {},
   "source": [
    "# Divide el conjunto de datos en características (X) y etiquetas (y)"
   ]
  },
  {
   "cell_type": "code",
   "execution_count": 12,
   "id": "a1d1704b-7608-492c-b808-ae6113bbca0a",
   "metadata": {
    "tags": []
   },
   "outputs": [],
   "source": [
    "X = data[['Tiredness', 'Dry-Cough', 'Difficulty-in-Breathing', 'Sore-Throat',  'Pains', 'Runny-Nose', 'Nasal-Congestion', 'Fever']]\n",
    "y = data['Severity_Moderate']\n"
   ]
  },
  {
   "cell_type": "markdown",
   "id": "82720e3a-47e6-4107-b663-4c85e77a105c",
   "metadata": {},
   "source": [
    "# Divide el conjunto de datos en conjuntos de entrenamiento y prueba"
   ]
  },
  {
   "cell_type": "code",
   "execution_count": 13,
   "id": "b5429f9e-e7af-4915-9ada-c634e1d82cc1",
   "metadata": {
    "tags": []
   },
   "outputs": [],
   "source": [
    "X_train, X_test, y_train, y_test = train_test_split(X, y, test_size=0.2, random_state=42)"
   ]
  },
  {
   "cell_type": "markdown",
   "id": "a6135820-55bf-4281-a83a-483a1e1998a9",
   "metadata": {},
   "source": [
    "# Inicializamos el clasificador KNN"
   ]
  },
  {
   "cell_type": "code",
   "execution_count": 16,
   "id": "6318e88c-82fc-4d74-bc21-c3ec48ead8f9",
   "metadata": {
    "tags": []
   },
   "outputs": [],
   "source": [
    "knn_classifier = KNeighborsClassifier(n_neighbors=5)"
   ]
  },
  {
   "cell_type": "markdown",
   "id": "1153e0f8-39e8-48dd-9873-11cdf575af3a",
   "metadata": {},
   "source": [
    "# Entrenamos el modelo"
   ]
  },
  {
   "cell_type": "code",
   "execution_count": 17,
   "id": "017c0c1f-892c-4cc2-acf4-374f2c0e7c4d",
   "metadata": {
    "tags": []
   },
   "outputs": [
    {
     "data": {
      "text/html": [
       "<style>#sk-container-id-1 {color: black;}#sk-container-id-1 pre{padding: 0;}#sk-container-id-1 div.sk-toggleable {background-color: white;}#sk-container-id-1 label.sk-toggleable__label {cursor: pointer;display: block;width: 100%;margin-bottom: 0;padding: 0.3em;box-sizing: border-box;text-align: center;}#sk-container-id-1 label.sk-toggleable__label-arrow:before {content: \"▸\";float: left;margin-right: 0.25em;color: #696969;}#sk-container-id-1 label.sk-toggleable__label-arrow:hover:before {color: black;}#sk-container-id-1 div.sk-estimator:hover label.sk-toggleable__label-arrow:before {color: black;}#sk-container-id-1 div.sk-toggleable__content {max-height: 0;max-width: 0;overflow: hidden;text-align: left;background-color: #f0f8ff;}#sk-container-id-1 div.sk-toggleable__content pre {margin: 0.2em;color: black;border-radius: 0.25em;background-color: #f0f8ff;}#sk-container-id-1 input.sk-toggleable__control:checked~div.sk-toggleable__content {max-height: 200px;max-width: 100%;overflow: auto;}#sk-container-id-1 input.sk-toggleable__control:checked~label.sk-toggleable__label-arrow:before {content: \"▾\";}#sk-container-id-1 div.sk-estimator input.sk-toggleable__control:checked~label.sk-toggleable__label {background-color: #d4ebff;}#sk-container-id-1 div.sk-label input.sk-toggleable__control:checked~label.sk-toggleable__label {background-color: #d4ebff;}#sk-container-id-1 input.sk-hidden--visually {border: 0;clip: rect(1px 1px 1px 1px);clip: rect(1px, 1px, 1px, 1px);height: 1px;margin: -1px;overflow: hidden;padding: 0;position: absolute;width: 1px;}#sk-container-id-1 div.sk-estimator {font-family: monospace;background-color: #f0f8ff;border: 1px dotted black;border-radius: 0.25em;box-sizing: border-box;margin-bottom: 0.5em;}#sk-container-id-1 div.sk-estimator:hover {background-color: #d4ebff;}#sk-container-id-1 div.sk-parallel-item::after {content: \"\";width: 100%;border-bottom: 1px solid gray;flex-grow: 1;}#sk-container-id-1 div.sk-label:hover label.sk-toggleable__label {background-color: #d4ebff;}#sk-container-id-1 div.sk-serial::before {content: \"\";position: absolute;border-left: 1px solid gray;box-sizing: border-box;top: 0;bottom: 0;left: 50%;z-index: 0;}#sk-container-id-1 div.sk-serial {display: flex;flex-direction: column;align-items: center;background-color: white;padding-right: 0.2em;padding-left: 0.2em;position: relative;}#sk-container-id-1 div.sk-item {position: relative;z-index: 1;}#sk-container-id-1 div.sk-parallel {display: flex;align-items: stretch;justify-content: center;background-color: white;position: relative;}#sk-container-id-1 div.sk-item::before, #sk-container-id-1 div.sk-parallel-item::before {content: \"\";position: absolute;border-left: 1px solid gray;box-sizing: border-box;top: 0;bottom: 0;left: 50%;z-index: -1;}#sk-container-id-1 div.sk-parallel-item {display: flex;flex-direction: column;z-index: 1;position: relative;background-color: white;}#sk-container-id-1 div.sk-parallel-item:first-child::after {align-self: flex-end;width: 50%;}#sk-container-id-1 div.sk-parallel-item:last-child::after {align-self: flex-start;width: 50%;}#sk-container-id-1 div.sk-parallel-item:only-child::after {width: 0;}#sk-container-id-1 div.sk-dashed-wrapped {border: 1px dashed gray;margin: 0 0.4em 0.5em 0.4em;box-sizing: border-box;padding-bottom: 0.4em;background-color: white;}#sk-container-id-1 div.sk-label label {font-family: monospace;font-weight: bold;display: inline-block;line-height: 1.2em;}#sk-container-id-1 div.sk-label-container {text-align: center;}#sk-container-id-1 div.sk-container {/* jupyter's `normalize.less` sets `[hidden] { display: none; }` but bootstrap.min.css set `[hidden] { display: none !important; }` so we also need the `!important` here to be able to override the default hidden behavior on the sphinx rendered scikit-learn.org. See: https://github.com/scikit-learn/scikit-learn/issues/21755 */display: inline-block !important;position: relative;}#sk-container-id-1 div.sk-text-repr-fallback {display: none;}</style><div id=\"sk-container-id-1\" class=\"sk-top-container\"><div class=\"sk-text-repr-fallback\"><pre>KNeighborsClassifier()</pre><b>In a Jupyter environment, please rerun this cell to show the HTML representation or trust the notebook. <br />On GitHub, the HTML representation is unable to render, please try loading this page with nbviewer.org.</b></div><div class=\"sk-container\" hidden><div class=\"sk-item\"><div class=\"sk-estimator sk-toggleable\"><input class=\"sk-toggleable__control sk-hidden--visually\" id=\"sk-estimator-id-1\" type=\"checkbox\" checked><label for=\"sk-estimator-id-1\" class=\"sk-toggleable__label sk-toggleable__label-arrow\">KNeighborsClassifier</label><div class=\"sk-toggleable__content\"><pre>KNeighborsClassifier()</pre></div></div></div></div></div>"
      ],
      "text/plain": [
       "KNeighborsClassifier()"
      ]
     },
     "execution_count": 17,
     "metadata": {},
     "output_type": "execute_result"
    }
   ],
   "source": [
    "knn_classifier.fit(X_train, y_train)"
   ]
  },
  {
   "cell_type": "markdown",
   "id": "32f00b43-bf1a-415d-82f5-7a077998e203",
   "metadata": {},
   "source": [
    "# Realizamos predicciones en el conjunto de prueba"
   ]
  },
  {
   "cell_type": "code",
   "execution_count": 18,
   "id": "6864a6ef-1b1c-41c8-a5e8-b2ecfe4af215",
   "metadata": {
    "tags": []
   },
   "outputs": [],
   "source": [
    "y_pred_knn = knn_classifier.predict(X_test)"
   ]
  },
  {
   "cell_type": "markdown",
   "id": "191fadc4-8ae6-44b8-8fbe-9ad6ec251fc5",
   "metadata": {},
   "source": [
    "# Evalúamos el rendimiento del modelo"
   ]
  },
  {
   "cell_type": "code",
   "execution_count": 21,
   "id": "ca3f7c5c-293a-4904-a4f2-34c330e991eb",
   "metadata": {
    "tags": []
   },
   "outputs": [
    {
     "name": "stdout",
     "output_type": "stream",
     "text": [
      "Accuracy (KNN): 0.7112058080808081\n"
     ]
    }
   ],
   "source": [
    "accuracy_knn = accuracy_score(y_test, y_pred_knn)\n",
    "print(f'Accuracy (KNN): {accuracy_knn}')"
   ]
  },
  {
   "cell_type": "markdown",
   "id": "af059970-04c8-4352-8eed-9e78484b7a4e",
   "metadata": {},
   "source": [
    "# Otros resultados"
   ]
  },
  {
   "cell_type": "code",
   "execution_count": null,
   "id": "0d12b85e-6f2d-4ce9-94f5-f1f2662035d0",
   "metadata": {
    "tags": []
   },
   "outputs": [],
   "source": [
    "print('\\nClassification Report:')\n",
    "print(classification_report(y_test, y_pred_knn))\n",
    "print('\\nConfusion Matrix:')\n",
    "print(confusion_matrix(y_test, y_pred_knn))"
   ]
  },
  {
   "cell_type": "code",
   "execution_count": null,
   "id": "5457b252-2ded-4f3f-8578-c996ec94fcd1",
   "metadata": {},
   "outputs": [],
   "source": []
  },
  {
   "cell_type": "markdown",
   "id": "56623a70-6e45-4ef6-8163-f313b4f8a8b5",
   "metadata": {},
   "source": [
    "# Análisis con Naive Bayes:"
   ]
  },
  {
   "cell_type": "markdown",
   "id": "32344bba-ee5e-4c29-82a5-c760080435c7",
   "metadata": {},
   "source": [
    "# Importamos las librerías necesarias"
   ]
  },
  {
   "cell_type": "code",
   "execution_count": 22,
   "id": "404eb72f-ca30-460e-b4a0-30cc5753d000",
   "metadata": {
    "tags": []
   },
   "outputs": [],
   "source": [
    "from sklearn.model_selection import train_test_split\n",
    "from sklearn.naive_bayes import MultinomialNB\n",
    "from sklearn.metrics import accuracy_score, classification_report, confusion_matrix\n",
    "from sklearn.preprocessing import LabelEncoder"
   ]
  },
  {
   "cell_type": "markdown",
   "id": "804515d4-e3c8-44f0-b548-4308a1f829d9",
   "metadata": {},
   "source": [
    "# Dividimos el conjunto de datos en características (X) y etiquetas (y)"
   ]
  },
  {
   "cell_type": "code",
   "execution_count": 24,
   "id": "6c08cd37-41f9-4b06-a61e-06ed7f6f0d4d",
   "metadata": {
    "tags": []
   },
   "outputs": [],
   "source": [
    "label_encoder = LabelEncoder()\n",
    "data['Severity_Moderate'] = label_encoder.fit_transform(data['Severity_Moderate'])"
   ]
  },
  {
   "cell_type": "markdown",
   "id": "c0ee04bd-72b9-4122-8f4c-6aa587e880a7",
   "metadata": {},
   "source": [
    "# Dividimos el conjunto de datos en conjuntos de entrenamiento y prueba"
   ]
  },
  {
   "cell_type": "code",
   "execution_count": 25,
   "id": "0769f55e-28f1-45a2-8865-f00308799a21",
   "metadata": {
    "tags": []
   },
   "outputs": [],
   "source": [
    "X = data.drop(['Severity_Moderate'], axis=1)\n",
    "y = data['Severity_Moderate']"
   ]
  },
  {
   "cell_type": "code",
   "execution_count": null,
   "id": "de308e31-fce4-4e6c-bd18-b3dc87f93ce2",
   "metadata": {},
   "outputs": [],
   "source": []
  },
  {
   "cell_type": "code",
   "execution_count": 26,
   "id": "699eb2c8-c9ca-459d-b032-aed6d426ad81",
   "metadata": {
    "tags": []
   },
   "outputs": [],
   "source": [
    "X_train, X_test, y_train, y_test = train_test_split(X, y, test_size=0.2, random_state=42)"
   ]
  },
  {
   "cell_type": "markdown",
   "id": "b82e9f96-f6aa-403c-9773-ce2beddf17a9",
   "metadata": {},
   "source": [
    "# Inicializamos el clasificador Naive Bayes"
   ]
  },
  {
   "cell_type": "code",
   "execution_count": 27,
   "id": "565e55cf-652d-4eb1-b4f1-e8e663355c43",
   "metadata": {
    "tags": []
   },
   "outputs": [],
   "source": [
    "nb_classifier = MultinomialNB()"
   ]
  },
  {
   "cell_type": "markdown",
   "id": "57f3edc9-82ee-46eb-96b1-484cc25ded88",
   "metadata": {},
   "source": [
    "# Entrenamos el modelo"
   ]
  },
  {
   "cell_type": "code",
   "execution_count": 28,
   "id": "ec42d0f6-b20f-4549-8a15-b4ea88d15312",
   "metadata": {
    "tags": []
   },
   "outputs": [
    {
     "data": {
      "text/html": [
       "<style>#sk-container-id-2 {color: black;}#sk-container-id-2 pre{padding: 0;}#sk-container-id-2 div.sk-toggleable {background-color: white;}#sk-container-id-2 label.sk-toggleable__label {cursor: pointer;display: block;width: 100%;margin-bottom: 0;padding: 0.3em;box-sizing: border-box;text-align: center;}#sk-container-id-2 label.sk-toggleable__label-arrow:before {content: \"▸\";float: left;margin-right: 0.25em;color: #696969;}#sk-container-id-2 label.sk-toggleable__label-arrow:hover:before {color: black;}#sk-container-id-2 div.sk-estimator:hover label.sk-toggleable__label-arrow:before {color: black;}#sk-container-id-2 div.sk-toggleable__content {max-height: 0;max-width: 0;overflow: hidden;text-align: left;background-color: #f0f8ff;}#sk-container-id-2 div.sk-toggleable__content pre {margin: 0.2em;color: black;border-radius: 0.25em;background-color: #f0f8ff;}#sk-container-id-2 input.sk-toggleable__control:checked~div.sk-toggleable__content {max-height: 200px;max-width: 100%;overflow: auto;}#sk-container-id-2 input.sk-toggleable__control:checked~label.sk-toggleable__label-arrow:before {content: \"▾\";}#sk-container-id-2 div.sk-estimator input.sk-toggleable__control:checked~label.sk-toggleable__label {background-color: #d4ebff;}#sk-container-id-2 div.sk-label input.sk-toggleable__control:checked~label.sk-toggleable__label {background-color: #d4ebff;}#sk-container-id-2 input.sk-hidden--visually {border: 0;clip: rect(1px 1px 1px 1px);clip: rect(1px, 1px, 1px, 1px);height: 1px;margin: -1px;overflow: hidden;padding: 0;position: absolute;width: 1px;}#sk-container-id-2 div.sk-estimator {font-family: monospace;background-color: #f0f8ff;border: 1px dotted black;border-radius: 0.25em;box-sizing: border-box;margin-bottom: 0.5em;}#sk-container-id-2 div.sk-estimator:hover {background-color: #d4ebff;}#sk-container-id-2 div.sk-parallel-item::after {content: \"\";width: 100%;border-bottom: 1px solid gray;flex-grow: 1;}#sk-container-id-2 div.sk-label:hover label.sk-toggleable__label {background-color: #d4ebff;}#sk-container-id-2 div.sk-serial::before {content: \"\";position: absolute;border-left: 1px solid gray;box-sizing: border-box;top: 0;bottom: 0;left: 50%;z-index: 0;}#sk-container-id-2 div.sk-serial {display: flex;flex-direction: column;align-items: center;background-color: white;padding-right: 0.2em;padding-left: 0.2em;position: relative;}#sk-container-id-2 div.sk-item {position: relative;z-index: 1;}#sk-container-id-2 div.sk-parallel {display: flex;align-items: stretch;justify-content: center;background-color: white;position: relative;}#sk-container-id-2 div.sk-item::before, #sk-container-id-2 div.sk-parallel-item::before {content: \"\";position: absolute;border-left: 1px solid gray;box-sizing: border-box;top: 0;bottom: 0;left: 50%;z-index: -1;}#sk-container-id-2 div.sk-parallel-item {display: flex;flex-direction: column;z-index: 1;position: relative;background-color: white;}#sk-container-id-2 div.sk-parallel-item:first-child::after {align-self: flex-end;width: 50%;}#sk-container-id-2 div.sk-parallel-item:last-child::after {align-self: flex-start;width: 50%;}#sk-container-id-2 div.sk-parallel-item:only-child::after {width: 0;}#sk-container-id-2 div.sk-dashed-wrapped {border: 1px dashed gray;margin: 0 0.4em 0.5em 0.4em;box-sizing: border-box;padding-bottom: 0.4em;background-color: white;}#sk-container-id-2 div.sk-label label {font-family: monospace;font-weight: bold;display: inline-block;line-height: 1.2em;}#sk-container-id-2 div.sk-label-container {text-align: center;}#sk-container-id-2 div.sk-container {/* jupyter's `normalize.less` sets `[hidden] { display: none; }` but bootstrap.min.css set `[hidden] { display: none !important; }` so we also need the `!important` here to be able to override the default hidden behavior on the sphinx rendered scikit-learn.org. See: https://github.com/scikit-learn/scikit-learn/issues/21755 */display: inline-block !important;position: relative;}#sk-container-id-2 div.sk-text-repr-fallback {display: none;}</style><div id=\"sk-container-id-2\" class=\"sk-top-container\"><div class=\"sk-text-repr-fallback\"><pre>MultinomialNB()</pre><b>In a Jupyter environment, please rerun this cell to show the HTML representation or trust the notebook. <br />On GitHub, the HTML representation is unable to render, please try loading this page with nbviewer.org.</b></div><div class=\"sk-container\" hidden><div class=\"sk-item\"><div class=\"sk-estimator sk-toggleable\"><input class=\"sk-toggleable__control sk-hidden--visually\" id=\"sk-estimator-id-2\" type=\"checkbox\" checked><label for=\"sk-estimator-id-2\" class=\"sk-toggleable__label sk-toggleable__label-arrow\">MultinomialNB</label><div class=\"sk-toggleable__content\"><pre>MultinomialNB()</pre></div></div></div></div></div>"
      ],
      "text/plain": [
       "MultinomialNB()"
      ]
     },
     "execution_count": 28,
     "metadata": {},
     "output_type": "execute_result"
    }
   ],
   "source": [
    "nb_classifier.fit(X_train, y_train)"
   ]
  },
  {
   "cell_type": "markdown",
   "id": "b2af1747-2d37-4a54-86a8-213c41063f27",
   "metadata": {},
   "source": [
    "# Realizamos predicciones en el conjunto de prueba"
   ]
  },
  {
   "cell_type": "code",
   "execution_count": 29,
   "id": "993b7f4f-749f-487a-9650-b78f51138443",
   "metadata": {
    "tags": []
   },
   "outputs": [],
   "source": [
    "y_pred_nb = nb_classifier.predict(X_test)"
   ]
  },
  {
   "cell_type": "markdown",
   "id": "1e7417cd-7f77-467c-9f5a-cc56e6a7485c",
   "metadata": {},
   "source": [
    "# Evaluamos el rendimiento del modelo"
   ]
  },
  {
   "cell_type": "code",
   "execution_count": 30,
   "id": "f6fe0745-6cfa-4604-abe3-ccc2c33ab4b6",
   "metadata": {
    "tags": []
   },
   "outputs": [
    {
     "name": "stdout",
     "output_type": "stream",
     "text": [
      "\n",
      "Accuracy (Naive Bayes): 0.7998579545454545\n"
     ]
    }
   ],
   "source": [
    "accuracy_nb = accuracy_score(y_test, y_pred_nb)\n",
    "print(f'\\nAccuracy (Naive Bayes): {accuracy_nb}')"
   ]
  },
  {
   "cell_type": "markdown",
   "id": "3dcbc5ea-b5a7-4239-bfc9-ec5274f4c1bb",
   "metadata": {},
   "source": [
    "# Otros resultados"
   ]
  },
  {
   "cell_type": "code",
   "execution_count": 31,
   "id": "7231bc47-dd89-404f-b23d-6100a99bf030",
   "metadata": {
    "tags": []
   },
   "outputs": [
    {
     "name": "stdout",
     "output_type": "stream",
     "text": [
      "\n",
      "Classification Report:\n",
      "              precision    recall  f1-score   support\n",
      "\n",
      "           0       0.79      1.00      0.88     47451\n",
      "           1       1.00      0.20      0.34     15909\n",
      "\n",
      "    accuracy                           0.80     63360\n",
      "   macro avg       0.89      0.60      0.61     63360\n",
      "weighted avg       0.84      0.80      0.75     63360\n",
      "\n",
      "\n",
      "Confusion Matrix:\n",
      "[[47451     0]\n",
      " [12681  3228]]\n"
     ]
    }
   ],
   "source": [
    "print('\\nClassification Report:')\n",
    "print(classification_report(y_test, y_pred_nb))\n",
    "print('\\nConfusion Matrix:')\n",
    "print(confusion_matrix(y_test, y_pred_nb))"
   ]
  },
  {
   "cell_type": "markdown",
   "id": "49d9b246-db6f-4bef-9265-ea01efb9418f",
   "metadata": {},
   "source": []
  },
  {
   "cell_type": "markdown",
   "id": "88f0cd08-fa22-441a-8ca7-e2580a502ba1",
   "metadata": {},
   "source": [
    "#KNN (Vecinos más cercanos):\n",
    "\n",
    "Precisión (Accuracy): El modelo acertó alrededor del 71.12% de las veces en predecir si un paciente tenía una infección moderada o no.\n",
    "\n",
    "Precision: De las veces que el modelo dijo que era una infección moderada, acertó aproximadamente el 71%.\n",
    "\n",
    "Recall: De todos los casos de infección moderada reales, el modelo identificó correctamente alrededor del 80%.\n",
    "\n",
    "F1-score: Una combinación de precision y recall, alrededor del 75%.\n",
    "Confusion Matrix:\n",
    "\n",
    "Verdaderos Positivos (VP): 24192 pacientes clasificados correctamente como moderadamente infectados.\n",
    "\n",
    "Verdaderos Negativos (VN): 38467 pacientes clasificados correctamente como no moderadamente infectados.\n",
    "\n",
    "Falsos Positivos (FP): 5069 pacientes clasificados incorrectamente como moderadamente infectados.\n",
    "\n",
    "Falsos Negativos (FN): 11632 pacientes clasificados incorrectamente como no moderadamente infectados.\n",
    "\n",
    "\n",
    "\n",
    "Naive Bayes:\n",
    "\n",
    "Precisión (Accuracy): El modelo acertó alrededor del 79.99% de las veces en predecir si un paciente tenía una infección moderada o no.\n",
    "\n",
    "\n",
    "\n",
    "Precision: De las veces que el modelo dijo que era una infección moderada, acertó aproximadamente el 79%.\n",
    "Recall: De todos los casos de infección moderada reales, el modelo identificó correctamente el 100%.\n",
    "F1-score: Una combinación de precision y recall, alrededor del 88%.\n",
    "Confusion Matrix:\n",
    "\n",
    "Verdaderos Positivos (VP): 3228 pacientes clasificados correctamente como moderadamente infectados.\n",
    "\n",
    "Verdaderos Negativos (VN): 47451 pacientes clasificados correctamente como no moderadamente infectados.\n",
    "\n",
    "Falsos Positivos (FP): 0 pacientes clasificados incorrectamente como moderadamente infectados.\n",
    "\n",
    "Falsos Negativos (FN): 12681 pacientes clasificados incorrectamente como no moderadamente infectados.\n",
    "\n",
    "\n",
    "\n",
    "En términos sencillos, ambos modelos predicen si un paciente tiene una infección moderada o no. El modelo Naive Bayes tuvo un rendimiento generalmente mejor, especialmente en identificar correctamente los casos reales de infección moderada. La matriz de confusión nos dice cuántas veces el modelo acertó o se equivocó en sus predicciones. En resumen, el modelo Naive Bayes parece ser más confiable para este escenario específico."
   ]
  }
 ],
 "metadata": {
  "kernelspec": {
   "display_name": "Python 3 (ipykernel)",
   "language": "python",
   "name": "python3"
  },
  "language_info": {
   "codemirror_mode": {
    "name": "ipython",
    "version": 3
   },
   "file_extension": ".py",
   "mimetype": "text/x-python",
   "name": "python",
   "nbconvert_exporter": "python",
   "pygments_lexer": "ipython3",
   "version": "3.11.5"
  }
 },
 "nbformat": 4,
 "nbformat_minor": 5
}
